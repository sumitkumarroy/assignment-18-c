{
 "cells": [
  {
   "cell_type": "code",
   "execution_count": 1,
   "id": "709c57f6",
   "metadata": {},
   "outputs": [
    {
     "data": {
      "text/plain": [
       "'\\nQ1. Assumptions of ANOVA: ANOVA assumes independence of observations, normality of residuals within each group, and homogeneity\\nof variances across groups. Violations such as non-normality, unequal variances, or lack of independence can lead to incorrect \\nconclusions or reduced power.\\n'"
      ]
     },
     "execution_count": 1,
     "metadata": {},
     "output_type": "execute_result"
    }
   ],
   "source": [
    "'''\n",
    "Q1. Assumptions of ANOVA: ANOVA assumes independence of observations, normality of residuals within each group, and homogeneity\n",
    "of variances across groups. Violations such as non-normality, unequal variances, or lack of independence can lead to incorrect \n",
    "conclusions or reduced power.\n",
    "'''"
   ]
  },
  {
   "cell_type": "code",
   "execution_count": 2,
   "id": "332906e7",
   "metadata": {},
   "outputs": [
    {
     "data": {
      "text/plain": [
       "'\\nQ2. Types of ANOVA: The three types are one-way ANOVA, used to compare means across two or more independent groups; two-way \\nANOVA, which examines the interaction between two independent variables; and repeated measures ANOVA, which analyzes \\nwithin-subjects effects over multiple time points or conditions.\\n'"
      ]
     },
     "execution_count": 2,
     "metadata": {},
     "output_type": "execute_result"
    }
   ],
   "source": [
    "'''\n",
    "Q2. Types of ANOVA: The three types are one-way ANOVA, used to compare means across two or more independent groups; two-way \n",
    "ANOVA, which examines the interaction between two independent variables; and repeated measures ANOVA, which analyzes \n",
    "within-subjects effects over multiple time points or conditions.\n",
    "'''"
   ]
  },
  {
   "cell_type": "code",
   "execution_count": 3,
   "id": "8a586068",
   "metadata": {},
   "outputs": [
    {
     "data": {
      "text/plain": [
       "'\\nQ3. Partitioning of Variance: ANOVA partitions total variance into components: SST (total sum of squares), SSE (explained sum \\nof squares), and SSR (residual sum of squares). Understanding this helps to quantify how much of the variation in the data is\\ndue to group differences versus random variability.\\n'"
      ]
     },
     "execution_count": 3,
     "metadata": {},
     "output_type": "execute_result"
    }
   ],
   "source": [
    "'''\n",
    "Q3. Partitioning of Variance: ANOVA partitions total variance into components: SST (total sum of squares), SSE (explained sum \n",
    "of squares), and SSR (residual sum of squares). Understanding this helps to quantify how much of the variation in the data is\n",
    "due to group differences versus random variability.\n",
    "'''"
   ]
  },
  {
   "cell_type": "code",
   "execution_count": 4,
   "id": "ea7afbd9",
   "metadata": {},
   "outputs": [
    {
     "data": {
      "text/plain": [
       "\"\\nQ4. Calculation in Python: Use libraries like scipy.stats or statsmodels to perform ANOVA. SST is the total variability, SSE is\\nexplained by the model, and SSR is unexplained variability within groups. Python functions like statsmodels' anova_lm or \\nscipy.stats.f_oneway provide these components directly from data arrays or dataframes.\\n\""
      ]
     },
     "execution_count": 4,
     "metadata": {},
     "output_type": "execute_result"
    }
   ],
   "source": [
    "'''\n",
    "Q4. Calculation in Python: Use libraries like scipy.stats or statsmodels to perform ANOVA. SST is the total variability, SSE is\n",
    "explained by the model, and SSR is unexplained variability within groups. Python functions like statsmodels' anova_lm or \n",
    "scipy.stats.f_oneway provide these components directly from data arrays or dataframes.\n",
    "'''"
   ]
  },
  {
   "cell_type": "code",
   "execution_count": 5,
   "id": "dd2c4a79",
   "metadata": {},
   "outputs": [
    {
     "data": {
      "text/plain": [
       "\"Q5. Main and Interaction Effects in Two-way ANOVA: In Python, you can use libraries like statsmodels or scipy.stats to\\nperform a two-way ANOVA. Main effects represent the independent contributions of each factor (e.g., software type and\\nexperience level) to the outcome. Interaction effects show how the combined effect of two factors differs from the sum of \\ntheir individual effects. Python functions like statsmodels' AnovaRM or anova_lm can compute these effects directly from data \\narrays or dataframes.\""
      ]
     },
     "execution_count": 5,
     "metadata": {},
     "output_type": "execute_result"
    }
   ],
   "source": [
    "'''Q5. Main and Interaction Effects in Two-way ANOVA: In Python, you can use libraries like statsmodels or scipy.stats to\n",
    "perform a two-way ANOVA. Main effects represent the independent contributions of each factor (e.g., software type and\n",
    "experience level) to the outcome. Interaction effects show how the combined effect of two factors differs from the sum of \n",
    "their individual effects. Python functions like statsmodels' AnovaRM or anova_lm can compute these effects directly from data \n",
    "arrays or dataframes.'''"
   ]
  },
  {
   "cell_type": "code",
   "execution_count": 6,
   "id": "16d5acb0",
   "metadata": {},
   "outputs": [
    {
     "data": {
      "text/plain": [
       "\"Q5. Main and Interaction Effects in Two-way ANOVA: In Python, you can use libraries like statsmodels or scipy.stats to \\nperform a two-way ANOVA. Main effects represent the independent contributions of each factor (e.g., software type and experience\\nlevel) to the outcome. Interaction effects show how the combined effect of two factors differs from the sum of their individual \\neffects. Python functions like statsmodels' AnovaRM or anova_lm can compute these effects directly from data arrays or \\ndataframes.\""
      ]
     },
     "execution_count": 6,
     "metadata": {},
     "output_type": "execute_result"
    }
   ],
   "source": [
    "'''Q5. Main and Interaction Effects in Two-way ANOVA: In Python, you can use libraries like statsmodels or scipy.stats to \n",
    "perform a two-way ANOVA. Main effects represent the independent contributions of each factor (e.g., software type and experience\n",
    "level) to the outcome. Interaction effects show how the combined effect of two factors differs from the sum of their individual \n",
    "effects. Python functions like statsmodels' AnovaRM or anova_lm can compute these effects directly from data arrays or \n",
    "dataframes.'''\n"
   ]
  },
  {
   "cell_type": "code",
   "execution_count": 7,
   "id": "2be90786",
   "metadata": {},
   "outputs": [
    {
     "data": {
      "text/plain": [
       "'Q7. Handling Missing Data in Repeated Measures ANOVA: In Python, missing data in repeated measures ANOVA can be handled using techniques like listwise deletion, imputation (e.g., mean imputation), or more advanced methods like multiple imputation. Each method has potential consequences: listwise deletion reduces sample size and power, while imputation methods can introduce bias if the missing data mechanism is not random. Careful consideration of the missing data pattern and assumptions is crucial to maintaining the validity of the analysis.'"
      ]
     },
     "execution_count": 7,
     "metadata": {},
     "output_type": "execute_result"
    }
   ],
   "source": [
    "'''Q7. Handling Missing Data in Repeated Measures ANOVA: In Python, missing data in repeated measures ANOVA can be handled using techniques like listwise deletion, imputation (e.g., mean imputation), or more advanced methods like multiple imputation. Each method has potential consequences: listwise deletion reduces sample size and power, while imputation methods can introduce bias if the missing data mechanism is not random. Careful consideration of the missing data pattern and assumptions is crucial to maintaining the validity of the analysis.'''"
   ]
  },
  {
   "cell_type": "code",
   "execution_count": 8,
   "id": "b47c7073",
   "metadata": {},
   "outputs": [
    {
     "data": {
      "text/plain": [
       "\"Q8. Post-hoc Tests in ANOVA: Common post-hoc tests include Tukey's HSD, Bonferroni correction, and Scheffe's method. These tests are used to identify which specific group means differ significantly after an ANOVA shows overall significance. For example, after conducting a one-way ANOVA comparing the effectiveness of three teaching methods, Tukey's HSD can determine which pairs of methods have significantly different mean scores. Post-hoc tests help avoid Type I errors by adjusting for multiple comparisons.\""
      ]
     },
     "execution_count": 8,
     "metadata": {},
     "output_type": "execute_result"
    }
   ],
   "source": [
    "'''Q8. Post-hoc Tests in ANOVA: Common post-hoc tests include Tukey's HSD, Bonferroni correction, and Scheffe's method. These tests are used to identify which specific group means differ significantly after an ANOVA shows overall significance. For example, after conducting a one-way ANOVA comparing the effectiveness of three teaching methods, Tukey's HSD can determine which pairs of methods have significantly different mean scores. Post-hoc tests help avoid Type I errors by adjusting for multiple comparisons.'''"
   ]
  },
  {
   "cell_type": "code",
   "execution_count": 9,
   "id": "e58c167b",
   "metadata": {},
   "outputs": [
    {
     "data": {
      "text/plain": [
       "'Q9. One-way ANOVA for Diet Comparison: Using Python, you can perform a one-way ANOVA to compare mean weight loss across diets A, B, and C from data collected from 50 participants. Report the F-statistic and p-value obtained from libraries like scipy.stats or statsmodels. A significant result (e.g., p < 0.05) would indicate that there are statistically significant differences in mean weight loss between at least two of the diets. Post-hoc tests could further specify which diets differ significantly in terms of weight loss effectiveness.'"
      ]
     },
     "execution_count": 9,
     "metadata": {},
     "output_type": "execute_result"
    }
   ],
   "source": [
    "'''Q9. One-way ANOVA for Diet Comparison: Using Python, you can perform a one-way ANOVA to compare mean weight loss across diets A, B, and C from data collected from 50 participants. Report the F-statistic and p-value obtained from libraries like scipy.stats or statsmodels. A significant result (e.g., p < 0.05) would indicate that there are statistically significant differences in mean weight loss between at least two of the diets. Post-hoc tests could further specify which diets differ significantly in terms of weight loss effectiveness.'''"
   ]
  },
  {
   "cell_type": "code",
   "execution_count": 10,
   "id": "21edf64b",
   "metadata": {},
   "outputs": [
    {
     "data": {
      "text/plain": [
       "'Q10. Two-way ANOVA for Software Programs and Experience Level: Conducting a two-way ANOVA in Python using libraries like statsmodels or scipy.stats allows assessment of main effects (impact of software programs and experience level on task completion time) and interaction effects (how combined effects differ from individual effects). Reporting F-statistics and p-values determines significance. A significant main effect for software programs indicates differences in task completion times between programs. An interaction effect suggests that the relationship between software and experience level influences task times differently. Post-hoc tests further identify significant differences among software programs or experience levels.'"
      ]
     },
     "execution_count": 10,
     "metadata": {},
     "output_type": "execute_result"
    }
   ],
   "source": [
    "'''Q10. Two-way ANOVA for Software Programs and Experience Level: Conducting a two-way ANOVA in Python using libraries like statsmodels or scipy.stats allows assessment of main effects (impact of software programs and experience level on task completion time) and interaction effects (how combined effects differ from individual effects). Reporting F-statistics and p-values determines significance. A significant main effect for software programs indicates differences in task completion times between programs. An interaction effect suggests that the relationship between software and experience level influences task times differently. Post-hoc tests further identify significant differences among software programs or experience levels.'''"
   ]
  },
  {
   "cell_type": "code",
   "execution_count": 11,
   "id": "e36d108c",
   "metadata": {},
   "outputs": [
    {
     "data": {
      "text/plain": [
       "'Q11. Two-sample t-test for Teaching Method: Using Python, a two-sample t-test compares test scores of students in control and experimental groups. A significant result (p < 0.05) implies a significant difference in scores between teaching methods. Post-hoc tests (e.g., Tukey HSD) identify which group(s) show significant differences. This helps determine if the new teaching method improves scores compared to the traditional method. Python libraries such as scipy.stats provide functions to perform t-tests and post-hoc analyses efficiently, aiding in educational research evaluations.'"
      ]
     },
     "execution_count": 11,
     "metadata": {},
     "output_type": "execute_result"
    }
   ],
   "source": [
    "'''Q11. Two-sample t-test for Teaching Method: Using Python, a two-sample t-test compares test scores of students in control and experimental groups. A significant result (p < 0.05) implies a significant difference in scores between teaching methods. Post-hoc tests (e.g., Tukey HSD) identify which group(s) show significant differences. This helps determine if the new teaching method improves scores compared to the traditional method. Python libraries such as scipy.stats provide functions to perform t-tests and post-hoc analyses efficiently, aiding in educational research evaluations.'''"
   ]
  },
  {
   "cell_type": "code",
   "execution_count": 12,
   "id": "7db95a18",
   "metadata": {},
   "outputs": [
    {
     "data": {
      "text/plain": [
       "'Q12. Repeated Measures ANOVA for Retail Store Sales: Python facilitates repeated measures ANOVA to analyze differences in daily sales among Store A, Store B, and Store C over 30 days. Significant results (p < 0.05) indicate differences in average daily sales among stores. Post-hoc tests (e.g., Bonferroni correction) pinpoint which stores exhibit significant sales variations. This method ensures robust analysis of retail store performance, guiding strategic decisions based on sales data trends. Python’s statistical libraries like statsmodels enable comprehensive repeated measures ANOVA and post-hoc testing, enhancing insights into store-level sales performance over time.'"
      ]
     },
     "execution_count": 12,
     "metadata": {},
     "output_type": "execute_result"
    }
   ],
   "source": [
    "'''Q12. Repeated Measures ANOVA for Retail Store Sales: Python facilitates repeated measures ANOVA to analyze differences in daily sales among Store A, Store B, and Store C over 30 days. Significant results (p < 0.05) indicate differences in average daily sales among stores. Post-hoc tests (e.g., Bonferroni correction) pinpoint which stores exhibit significant sales variations. This method ensures robust analysis of retail store performance, guiding strategic decisions based on sales data trends. Python’s statistical libraries like statsmodels enable comprehensive repeated measures ANOVA and post-hoc testing, enhancing insights into store-level sales performance over time.'''"
   ]
  },
  {
   "cell_type": "code",
   "execution_count": null,
   "id": "3e9f33dd",
   "metadata": {},
   "outputs": [],
   "source": []
  }
 ],
 "metadata": {
  "kernelspec": {
   "display_name": "Python 3 (ipykernel)",
   "language": "python",
   "name": "python3"
  },
  "language_info": {
   "codemirror_mode": {
    "name": "ipython",
    "version": 3
   },
   "file_extension": ".py",
   "mimetype": "text/x-python",
   "name": "python",
   "nbconvert_exporter": "python",
   "pygments_lexer": "ipython3",
   "version": "3.11.4"
  }
 },
 "nbformat": 4,
 "nbformat_minor": 5
}
